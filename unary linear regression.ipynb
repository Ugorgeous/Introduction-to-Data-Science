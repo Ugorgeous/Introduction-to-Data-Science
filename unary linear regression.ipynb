{
 "cells": [
  {
   "cell_type": "code",
   "execution_count": 134,
   "id": "02424e3f",
   "metadata": {},
   "outputs": [],
   "source": [
    "#导入库\n",
    "import pandas as pd\n",
    "import math\n",
    "import matplotlib.pyplot as plt"
   ]
  },
  {
   "cell_type": "code",
   "execution_count": 135,
   "id": "884022a3",
   "metadata": {},
   "outputs": [],
   "source": [
    "#导入数据\n",
    "path1=r'D:\\Ugorgeous\\LLLLearning\\introduction to data science\\Advertising.csv'\n",
    "data1=pd.read_csv (path1)"
   ]
  },
  {
   "cell_type": "code",
   "execution_count": 136,
   "id": "794cd9db",
   "metadata": {},
   "outputs": [
    {
     "data": {
      "text/html": [
       "<div>\n",
       "<style scoped>\n",
       "    .dataframe tbody tr th:only-of-type {\n",
       "        vertical-align: middle;\n",
       "    }\n",
       "\n",
       "    .dataframe tbody tr th {\n",
       "        vertical-align: top;\n",
       "    }\n",
       "\n",
       "    .dataframe thead th {\n",
       "        text-align: right;\n",
       "    }\n",
       "</style>\n",
       "<table border=\"1\" class=\"dataframe\">\n",
       "  <thead>\n",
       "    <tr style=\"text-align: right;\">\n",
       "      <th></th>\n",
       "      <th>Unnamed: 0</th>\n",
       "      <th>TV</th>\n",
       "      <th>radio</th>\n",
       "      <th>newspaper</th>\n",
       "      <th>sales</th>\n",
       "    </tr>\n",
       "  </thead>\n",
       "  <tbody>\n",
       "    <tr>\n",
       "      <th>0</th>\n",
       "      <td>1</td>\n",
       "      <td>230.1</td>\n",
       "      <td>37.8</td>\n",
       "      <td>69.2</td>\n",
       "      <td>22.1</td>\n",
       "    </tr>\n",
       "    <tr>\n",
       "      <th>1</th>\n",
       "      <td>2</td>\n",
       "      <td>44.5</td>\n",
       "      <td>39.3</td>\n",
       "      <td>45.1</td>\n",
       "      <td>10.4</td>\n",
       "    </tr>\n",
       "    <tr>\n",
       "      <th>2</th>\n",
       "      <td>3</td>\n",
       "      <td>17.2</td>\n",
       "      <td>45.9</td>\n",
       "      <td>69.3</td>\n",
       "      <td>9.3</td>\n",
       "    </tr>\n",
       "    <tr>\n",
       "      <th>3</th>\n",
       "      <td>4</td>\n",
       "      <td>151.5</td>\n",
       "      <td>41.3</td>\n",
       "      <td>58.5</td>\n",
       "      <td>18.5</td>\n",
       "    </tr>\n",
       "    <tr>\n",
       "      <th>4</th>\n",
       "      <td>5</td>\n",
       "      <td>180.8</td>\n",
       "      <td>10.8</td>\n",
       "      <td>58.4</td>\n",
       "      <td>12.9</td>\n",
       "    </tr>\n",
       "  </tbody>\n",
       "</table>\n",
       "</div>"
      ],
      "text/plain": [
       "   Unnamed: 0     TV  radio  newspaper  sales\n",
       "0           1  230.1   37.8       69.2   22.1\n",
       "1           2   44.5   39.3       45.1   10.4\n",
       "2           3   17.2   45.9       69.3    9.3\n",
       "3           4  151.5   41.3       58.5   18.5\n",
       "4           5  180.8   10.8       58.4   12.9"
      ]
     },
     "execution_count": 136,
     "metadata": {},
     "output_type": "execute_result"
    }
   ],
   "source": [
    "#查看数据结构\n",
    "data1.head()"
   ]
  },
  {
   "cell_type": "code",
   "execution_count": 138,
   "id": "ee75f3e9",
   "metadata": {},
   "outputs": [
    {
     "data": {
      "text/html": [
       "<div>\n",
       "<style scoped>\n",
       "    .dataframe tbody tr th:only-of-type {\n",
       "        vertical-align: middle;\n",
       "    }\n",
       "\n",
       "    .dataframe tbody tr th {\n",
       "        vertical-align: top;\n",
       "    }\n",
       "\n",
       "    .dataframe thead th {\n",
       "        text-align: right;\n",
       "    }\n",
       "</style>\n",
       "<table border=\"1\" class=\"dataframe\">\n",
       "  <thead>\n",
       "    <tr style=\"text-align: right;\">\n",
       "      <th></th>\n",
       "      <th>Unnamed: 0</th>\n",
       "      <th>TV</th>\n",
       "      <th>radio</th>\n",
       "      <th>newspaper</th>\n",
       "      <th>sales</th>\n",
       "    </tr>\n",
       "  </thead>\n",
       "  <tbody>\n",
       "    <tr>\n",
       "      <th>count</th>\n",
       "      <td>200.000000</td>\n",
       "      <td>200.000000</td>\n",
       "      <td>200.000000</td>\n",
       "      <td>200.000000</td>\n",
       "      <td>200.000000</td>\n",
       "    </tr>\n",
       "    <tr>\n",
       "      <th>mean</th>\n",
       "      <td>100.500000</td>\n",
       "      <td>147.042500</td>\n",
       "      <td>23.264000</td>\n",
       "      <td>30.554000</td>\n",
       "      <td>14.022500</td>\n",
       "    </tr>\n",
       "    <tr>\n",
       "      <th>std</th>\n",
       "      <td>57.879185</td>\n",
       "      <td>85.854236</td>\n",
       "      <td>14.846809</td>\n",
       "      <td>21.778621</td>\n",
       "      <td>5.217457</td>\n",
       "    </tr>\n",
       "    <tr>\n",
       "      <th>min</th>\n",
       "      <td>1.000000</td>\n",
       "      <td>0.700000</td>\n",
       "      <td>0.000000</td>\n",
       "      <td>0.300000</td>\n",
       "      <td>1.600000</td>\n",
       "    </tr>\n",
       "    <tr>\n",
       "      <th>25%</th>\n",
       "      <td>50.750000</td>\n",
       "      <td>74.375000</td>\n",
       "      <td>9.975000</td>\n",
       "      <td>12.750000</td>\n",
       "      <td>10.375000</td>\n",
       "    </tr>\n",
       "    <tr>\n",
       "      <th>50%</th>\n",
       "      <td>100.500000</td>\n",
       "      <td>149.750000</td>\n",
       "      <td>22.900000</td>\n",
       "      <td>25.750000</td>\n",
       "      <td>12.900000</td>\n",
       "    </tr>\n",
       "    <tr>\n",
       "      <th>75%</th>\n",
       "      <td>150.250000</td>\n",
       "      <td>218.825000</td>\n",
       "      <td>36.525000</td>\n",
       "      <td>45.100000</td>\n",
       "      <td>17.400000</td>\n",
       "    </tr>\n",
       "    <tr>\n",
       "      <th>max</th>\n",
       "      <td>200.000000</td>\n",
       "      <td>296.400000</td>\n",
       "      <td>49.600000</td>\n",
       "      <td>114.000000</td>\n",
       "      <td>27.000000</td>\n",
       "    </tr>\n",
       "  </tbody>\n",
       "</table>\n",
       "</div>"
      ],
      "text/plain": [
       "       Unnamed: 0          TV       radio   newspaper       sales\n",
       "count  200.000000  200.000000  200.000000  200.000000  200.000000\n",
       "mean   100.500000  147.042500   23.264000   30.554000   14.022500\n",
       "std     57.879185   85.854236   14.846809   21.778621    5.217457\n",
       "min      1.000000    0.700000    0.000000    0.300000    1.600000\n",
       "25%     50.750000   74.375000    9.975000   12.750000   10.375000\n",
       "50%    100.500000  149.750000   22.900000   25.750000   12.900000\n",
       "75%    150.250000  218.825000   36.525000   45.100000   17.400000\n",
       "max    200.000000  296.400000   49.600000  114.000000   27.000000"
      ]
     },
     "execution_count": 138,
     "metadata": {},
     "output_type": "execute_result"
    }
   ],
   "source": [
    "data1.describe()"
   ]
  },
  {
   "cell_type": "code",
   "execution_count": 140,
   "id": "3f43efaa",
   "metadata": {},
   "outputs": [],
   "source": [
    "#变量初步设定\n",
    "ulr_data=data1\n",
    "\n",
    "X=['TV','radio','newspaper']\n",
    "y_data=ulr_data['sales']\n",
    "\n",
    "beta_1=[]\n",
    "beta_0=[]\n",
    "TSS=[]\n",
    "RSS=[]\n",
    "R_squared=[]"
   ]
  },
  {
   "cell_type": "code",
   "execution_count": 141,
   "id": "db33dd2d",
   "metadata": {},
   "outputs": [],
   "source": [
    "#一元线性回归\n",
    "TSS = sum((y_data - y_data.mean()) ** 2)\n",
    "for i in range(len(X)):\n",
    "    x_data = ulr_data[X[i]]\n",
    "\n",
    "    beta_1.append(sum((x_data - x_data.mean()) * (y_data - y_data.mean())) / sum((x_data - x_data.mean()) ** 2))\n",
    "    beta_0.append(y_data.mean() - beta_1[i] * x_data.mean())\n",
    "\n",
    "    RSS.append(sum((y_data - (beta_1[i] * x_data + beta_0[i])) ** 2))\n",
    "    R_squared.append(1 - RSS[i] / TSS)\n"
   ]
  },
  {
   "cell_type": "code",
   "execution_count": 146,
   "id": "078b8d83",
   "metadata": {
    "scrolled": true
   },
   "outputs": [
    {
     "name": "stdout",
     "output_type": "stream",
     "text": [
      "unary linear regression functions and results:\n",
      "TV:\n",
      "y=0.047537*x+7.032594\n",
      "radio:\n",
      "y=0.202496*x+9.311638\n",
      "newspaper:\n",
      "y=0.054693*x+12.351407\n"
     ]
    },
    {
     "data": {
      "text/html": [
       "<div>\n",
       "<style scoped>\n",
       "    .dataframe tbody tr th:only-of-type {\n",
       "        vertical-align: middle;\n",
       "    }\n",
       "\n",
       "    .dataframe tbody tr th {\n",
       "        vertical-align: top;\n",
       "    }\n",
       "\n",
       "    .dataframe thead th {\n",
       "        text-align: right;\n",
       "    }\n",
       "</style>\n",
       "<table border=\"1\" class=\"dataframe\">\n",
       "  <thead>\n",
       "    <tr style=\"text-align: right;\">\n",
       "      <th></th>\n",
       "      <th>beta_1</th>\n",
       "      <th>beta_0</th>\n",
       "      <th>TSS</th>\n",
       "      <th>RSS</th>\n",
       "      <th>R_squared</th>\n",
       "    </tr>\n",
       "  </thead>\n",
       "  <tbody>\n",
       "    <tr>\n",
       "      <th>TV</th>\n",
       "      <td>0.047537</td>\n",
       "      <td>7.032594</td>\n",
       "      <td>5417.14875</td>\n",
       "      <td>2102.530583</td>\n",
       "      <td>0.611875</td>\n",
       "    </tr>\n",
       "    <tr>\n",
       "      <th>radio</th>\n",
       "      <td>0.202496</td>\n",
       "      <td>9.311638</td>\n",
       "      <td>5417.14875</td>\n",
       "      <td>3618.479549</td>\n",
       "      <td>0.332032</td>\n",
       "    </tr>\n",
       "    <tr>\n",
       "      <th>newspaper</th>\n",
       "      <td>0.054693</td>\n",
       "      <td>12.351407</td>\n",
       "      <td>5417.14875</td>\n",
       "      <td>5134.804544</td>\n",
       "      <td>0.052120</td>\n",
       "    </tr>\n",
       "  </tbody>\n",
       "</table>\n",
       "</div>"
      ],
      "text/plain": [
       "             beta_1     beta_0         TSS          RSS  R_squared\n",
       "TV         0.047537   7.032594  5417.14875  2102.530583   0.611875\n",
       "radio      0.202496   9.311638  5417.14875  3618.479549   0.332032\n",
       "newspaper  0.054693  12.351407  5417.14875  5134.804544   0.052120"
      ]
     },
     "execution_count": 146,
     "metadata": {},
     "output_type": "execute_result"
    }
   ],
   "source": [
    "#结果汇总\n",
    "results0={'beta_1':pd.Series(beta_1,index=X),\n",
    "    'beta_0':pd.Series(beta_0,index=X),\n",
    "    'TSS':pd.Series(TSS,index=X),\n",
    "    'RSS':pd.Series(RSS,index=X),\n",
    "    'R_squared':pd.Series(R_squared,index=X)}\n",
    "results=pd.DataFrame(results0)\n",
    "\n",
    "print(\"unary linear regression functions and results:\")\n",
    "for i in range(len(X)):\n",
    "    print(\"%s:\\ny=%f*x+%f\" % (X[i],beta_1[i],beta_0[i]))\n",
    "results"
   ]
  },
  {
   "cell_type": "code",
   "execution_count": 143,
   "id": "036137d4",
   "metadata": {},
   "outputs": [
    {
     "data": {
      "text/plain": [
       "<matplotlib.collections.PathCollection at 0x2770b427850>"
      ]
     },
     "execution_count": 143,
     "metadata": {},
     "output_type": "execute_result"
    },
    {
     "data": {
      "image/png": "[encoded data removed]",
      "text/plain": [
       "<Figure size 432x288 with 3 Axes>"
      ]
     },
     "metadata": {
      "needs_background": "light"
     },
     "output_type": "display_data"
    }
   ],
   "source": [
    "#绘图\n",
    "i=0\n",
    "\n",
    "plt.subplot(311)\n",
    "plt.xlabel(X[i])\n",
    "plt.ylabel('sales')\n",
    "plt.plot([0,x_data.max()],[beta_0[i],x_data.max()*beta_1[i]+beta_0[i]])\n",
    "plt.scatter(x_data,y_data,color='pink')\n",
    "\n",
    "i=1\n",
    "plt.subplot(312)\n",
    "plt.xlabel(X[i])\n",
    "plt.ylabel('sales')\n",
    "plt.plot([0,x_data.max()],[beta_0[i],x_data.max()*beta_1[i]+beta_0[i]])\n",
    "plt.scatter(x_data,y_data,color='pink')\n",
    "\n",
    "i=2\n",
    "plt.subplot(313)\n",
    "plt.xlabel(X[i])\n",
    "plt.ylabel('sales')\n",
    "plt.plot([0,x_data.max()],[beta_0[i],x_data.max()*beta_1[i]+beta_0[i]])\n",
    "plt.scatter(x_data,y_data,color='pink')"
   ]
  },
  {
   "cell_type": "code",
   "execution_count": null,
   "id": "fd1e710b",
   "metadata": {},
   "outputs": [],
   "source": []
  }
 ],
 "metadata": {
  "kernelspec": {
   "display_name": "Python 3 (ipykernel)",
   "language": "python",
   "name": "python3"
  },
  "language_info": {
   "codemirror_mode": {
    "name": "ipython",
    "version": 3
   },
   "file_extension": ".py",
   "mimetype": "text/x-python",
   "name": "python",
   "nbconvert_exporter": "python",
   "pygments_lexer": "ipython3",
   "version": "3.9.7"
  }
 },
 "nbformat": 4,
 "nbformat_minor": 5
}
